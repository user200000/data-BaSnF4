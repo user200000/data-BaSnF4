{
 "cells": [
  {
   "cell_type": "code",
   "execution_count": 1,
   "id": "08bae89e",
   "metadata": {},
   "outputs": [],
   "source": [
    "import numpy as np\n",
    "import ase\n",
    "import scipy.linalg"
   ]
  },
  {
   "cell_type": "code",
   "execution_count": 2,
   "id": "5ad4614c",
   "metadata": {},
   "outputs": [],
   "source": [
    "hexaset=[]\n",
    "hexamin_loc=[]\n",
    "the_vectors=np.array([[-1,0,0],[1,0,0],[0,-1,0],[0,1,0],[0,0,-1],[0,0,1]])\n",
    "for k in range(806,16182,5):\n",
    "    hexamin_array=[]\n",
    "    start=np.loadtxt(\"dipoles/Sys\"+str(k)+\"/dipoles.out\")[54:108,:]\n",
    "    for k in range(np.shape(start)[0]):\n",
    "        angle_set=np.arccos(np.dot(start[k,:],np.transpose(the_vectors)/scipy.linalg.norm(start[k,:])))/np.pi*180\n",
    "        hexaset.append(np.min(angle_set))\n",
    "        hexamin_array.append(np.where(np.min(angle_set)==angle_set)[0][0])\n",
    "    hexamin_loc.append(hexamin_array)"
   ]
  },
  {
   "cell_type": "code",
   "execution_count": 3,
   "id": "b4c606ce",
   "metadata": {},
   "outputs": [],
   "source": [
    "np.savetxt('hexamin_loc',hexamin_loc)"
   ]
  },
  {
   "cell_type": "code",
   "execution_count": 4,
   "id": "ac02240b",
   "metadata": {},
   "outputs": [],
   "source": [
    "files=[]\n",
    "for counter in range (1,55):\n",
    "    files.append('../sites/trajectories/r'+str(counter)+'/XDATCAR')"
   ]
  },
  {
   "cell_type": "code",
   "execution_count": 5,
   "id": "b1bc87e9",
   "metadata": {},
   "outputs": [],
   "source": [
    "from pymatgen.io.vasp.outputs import Xdatcar"
   ]
  },
  {
   "cell_type": "code",
   "execution_count": 6,
   "id": "09904f55",
   "metadata": {},
   "outputs": [],
   "source": [
    "trajectory_list = (Xdatcar(f) for f in files)\n",
    "structures = ([x.structures for x in trajectory_list])"
   ]
  },
  {
   "cell_type": "code",
   "execution_count": 7,
   "id": "93603c3f",
   "metadata": {},
   "outputs": [],
   "source": [
    "flat_list = []\n",
    "for sublist in structures:\n",
    "    for item in sublist:\n",
    "        flat_list.append(item)"
   ]
  },
  {
   "cell_type": "code",
   "execution_count": 8,
   "id": "47863821",
   "metadata": {},
   "outputs": [],
   "source": [
    "sss=flat_list[0]\n",
    "box_x=sss.lattice.a\n",
    "box_y=sss.lattice.b\n",
    "box_z=sss.lattice.c"
   ]
  },
  {
   "cell_type": "code",
   "execution_count": 9,
   "id": "6b351193",
   "metadata": {},
   "outputs": [],
   "source": [
    "from tqdm import tqdm"
   ]
  },
  {
   "cell_type": "code",
   "execution_count": 10,
   "id": "385fe9b1",
   "metadata": {},
   "outputs": [
    {
     "name": "stderr",
     "output_type": "stream",
     "text": [
      "100%|███████████████████████████████████████| 3076/3076 [00:47<00:00, 65.35it/s]\n"
     ]
    }
   ],
   "source": [
    "angular_store=[]\n",
    "radial_store=[]\n",
    "for k in tqdm(range(806,16182,5)):\n",
    "    Sn=np.array(flat_list[k].cart_coords[54:108,:])\n",
    "    F=np.array(flat_list[k].cart_coords[108:,:])\n",
    "    rx=np.zeros((216,54))\n",
    "    ry=np.zeros((216,54))\n",
    "    rz=np.zeros((216,54))\n",
    "    for x in range(216):\n",
    "        ry[x,:]=(Sn[:,1]-F[x,1]) \n",
    "        rx[x,:]=(Sn[:,0]-F[x,0]) \n",
    "        rz[x,:]=(Sn[:,2]-F[x,2])\n",
    "    rx-= (np.ceil((np.abs(rx)-box_x/2)/box_x))*((box_x))*np.sign(rx)\n",
    "    ry-= (np.ceil((np.abs(ry)-box_y/2)/box_y))*((box_y))*np.sign(ry)\n",
    "    rz-= (np.ceil((np.abs(rz)-box_z/2)/box_z))*((box_z))*np.sign(rz)\n",
    "    r=np.sqrt(rx**2+ry**2+rz**2)\n",
    "    start=np.loadtxt(\"/Users/swc57/qpdf/quickPDF/for_wann_BaNew/Sys\"+str(k)+\"/dipoles.out\")[54:108,:]\n",
    "    dx=start[:,0]\n",
    "    dy=start[:,1]\n",
    "    dz=start[:,2]\n",
    "    dip=np.sqrt(dx**2+dy**2+dz**2)\n",
    "    for l in range (54):\n",
    "        cosstuff=np.arccos(((rx[:,l]*dx[l])+(ry[:,l]*dy[l])+(rz[:,l]*dz[l]))/dip[l]/r[:,l])\n",
    "        angular_store.append(cosstuff)\n",
    "        radial_store.append(r[:,l])"
   ]
  },
  {
   "cell_type": "code",
   "execution_count": 11,
   "id": "cac8fff2",
   "metadata": {},
   "outputs": [],
   "source": [
    "angular_line=np.array(angular_store).ravel()"
   ]
  },
  {
   "cell_type": "code",
   "execution_count": 12,
   "id": "3d1aa162",
   "metadata": {},
   "outputs": [],
   "source": [
    "radial_line=np.array(radial_store).ravel()"
   ]
  },
  {
   "cell_type": "code",
   "execution_count": 13,
   "id": "3583f4a4",
   "metadata": {},
   "outputs": [],
   "source": [
    "import matplotlib.pyplot as plt"
   ]
  },
  {
   "cell_type": "code",
   "execution_count": 14,
   "id": "49b0a397",
   "metadata": {},
   "outputs": [],
   "source": [
    "a=np.histogram2d(angular_line,radial_line,bins=50)"
   ]
  },
  {
   "cell_type": "code",
   "execution_count": 15,
   "id": "c1a5d8ac",
   "metadata": {},
   "outputs": [
    {
     "name": "stderr",
     "output_type": "stream",
     "text": [
      "/Users/swc57/miniconda3/envs/p3p7/lib/python3.7/site-packages/ipykernel_launcher.py:19: MatplotlibDeprecationWarning: Auto-removal of grids by pcolor() and pcolormesh() is deprecated since 3.5 and will be removed two minor releases later; please call grid(False) first.\n"
     ]
    },
    {
     "data": {
      "image/png": "[encoded data removed]",
      "text/plain": [
       "<Figure size 400.05x247.65 with 1 Axes>"
      ]
     },
     "metadata": {
      "needs_background": "light"
     },
     "output_type": "display_data"
    }
   ],
   "source": [
    "rbins = np.linspace(0,radial_line.max(), 200)\n",
    "abins = np.linspace(0,np.pi, 200)\n",
    "\n",
    "hist, _, _ = np.histogram2d(angular_line,radial_line, bins=(abins, rbins))\n",
    "\n",
    "A, R = np.meshgrid(abins, rbins)\n",
    "\n",
    "volume=2*np.pi*R**3/3*(1-(np.cos(A)))\n",
    "\n",
    "volume=volume[:,1:]-volume[:,:-1]\n",
    "volume=volume[1:,:]-volume[:-1,:]\n",
    "\n",
    "from figure_formatting import figure_formatting as ff\n",
    "from cmcrameri import cm\n",
    "\n",
    "ff.set_formatting()\n",
    "fig, ax = plt.subplots(subplot_kw=dict(projection=\"polar\"))\n",
    "\n",
    "pc = ax.pcolormesh((abins[:-1]+abins[1:])/2, (rbins[:-1]+rbins[1:])/2, hist.T/volume/100,cmap=cm.lipari,rasterized=True)\n",
    "plt.xlim(0,np.pi)\n",
    "plt.ylim(0,4)\n",
    "\n",
    "fig.savefig('Spatial_distribution.pdf',dpi=1000)\n",
    "\n"
   ]
  },
  {
   "cell_type": "code",
   "execution_count": null,
   "id": "4447744d",
   "metadata": {},
   "outputs": [],
   "source": []
  }
 ],
 "metadata": {
  "kernelspec": {
   "display_name": "Python 3 (ipykernel)",
   "language": "python",
   "name": "python3"
  },
  "language_info": {
   "codemirror_mode": {
    "name": "ipython",
    "version": 3
   },
   "file_extension": ".py",
   "mimetype": "text/x-python",
   "name": "python",
   "nbconvert_exporter": "python",
   "pygments_lexer": "ipython3",
   "version": "3.7.13"
  }
 },
 "nbformat": 4,
 "nbformat_minor": 5
}
