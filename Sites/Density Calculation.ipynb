{
 "cells": [
  {
   "cell_type": "code",
   "execution_count": null,
   "id": "4ca2aff9",
   "metadata": {},
   "outputs": [],
   "source": [
    "from revelsMD import trajectory_states, revels_3D\n",
    "from tqdm import tqdm"
   ]
  },
  {
   "cell_type": "markdown",
   "id": "f580de0a",
   "metadata": {},
   "source": [
    "This simple notebook loads vaspruns and calculates the 3 dimensional ion density, using revelsMD. This data feeds into the . First we load the vasprun file names appended into a list"
   ]
  },
  {
   "cell_type": "code",
   "execution_count": 10,
   "id": "00948a69",
   "metadata": {},
   "outputs": [
    {
     "name": "stderr",
     "output_type": "stream",
     "text": [
      "100%|███████████████████████████████████████| 53/53 [00:00<00:00, 202273.08it/s]\n"
     ]
    }
   ],
   "source": [
    "vaspruns=[]\n",
    "for i in tqdm(range(1,54)):\n",
    "    vaspruns.append(f'trajectories/r{i}/vasprun.xml')"
   ]
  },
  {
   "cell_type": "markdown",
   "id": "c43d128e",
   "metadata": {},
   "source": [
    "Then we generate a trajectory state from that list"
   ]
  },
  {
   "cell_type": "code",
   "execution_count": 12,
   "id": "205da133",
   "metadata": {},
   "outputs": [],
   "source": [
    "TS=trajectory_states.VaspTrajectoryState(vaspruns)"
   ]
  },
  {
   "cell_type": "markdown",
   "id": "6d530ada",
   "metadata": {},
   "source": [
    "Then we create a grid state"
   ]
  },
  {
   "cell_type": "code",
   "execution_count": 14,
   "id": "9e27ec3e",
   "metadata": {},
   "outputs": [
    {
     "name": "stderr",
     "output_type": "stream",
     "text": [
      "100%|███████████████████████████████████| 79499/79499 [00:38<00:00, 2083.16it/s]\n"
     ]
    }
   ],
   "source": [
    "GS=revels_3D.Revels3D.GridState(TS,'number',600,nbins=250)\n",
    "GS.make_force_grid(TS,'F')\n",
    "GS.get_real_density()"
   ]
  },
  {
   "cell_type": "markdown",
   "id": "09d781f1",
   "metadata": {},
   "source": [
    "We choose here to really crisp up the density by using a control variates method to calculate an optimal linear combination of force based and histogram methods. This isnt strictly necessary but it does give us the best possible data."
   ]
  },
  {
   "cell_type": "code",
   "execution_count": 16,
   "id": "b877d53c",
   "metadata": {},
   "outputs": [
    {
     "name": "stderr",
     "output_type": "stream",
     "text": [
      "100%|█████████████████████████████████| 79499/79499 [197:49:52<00:00,  8.96s/it]\n"
     ]
    }
   ],
   "source": [
    "NGS= GS.get_lambda(TS,79499)"
   ]
  },
  {
   "cell_type": "markdown",
   "id": "699ff318",
   "metadata": {},
   "source": [
    "We then create a guassian cube file in order to store the resulting density."
   ]
  },
  {
   "cell_type": "code",
   "execution_count": 24,
   "id": "86f5739a",
   "metadata": {},
   "outputs": [],
   "source": [
    "NGS.write_to_cube(TS.Vasprun.start,NGS.optimal_density,'F_density.cube')"
   ]
  }
 ],
 "metadata": {
  "kernelspec": {
   "display_name": "Python 3 (ipykernel)",
   "language": "python",
   "name": "python3"
  },
  "language_info": {
   "codemirror_mode": {
    "name": "ipython",
    "version": 3
   },
   "file_extension": ".py",
   "mimetype": "text/x-python",
   "name": "python",
   "nbconvert_exporter": "python",
   "pygments_lexer": "ipython3",
   "version": "3.7.13"
  }
 },
 "nbformat": 4,
 "nbformat_minor": 5
}
