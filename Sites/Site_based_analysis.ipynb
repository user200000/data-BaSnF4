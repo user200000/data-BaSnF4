{
 "cells": [
  {
   "cell_type": "markdown",
   "id": "1fc5433b",
   "metadata": {},
   "source": [
    "# Site Analysis notebooks"
   ]
  },
  {
   "cell_type": "markdown",
   "id": "b79f7159",
   "metadata": {},
   "source": [
    "This notebook handles the site analysis based work in the paper. This forms the basis of the analysis performed to plot figures 7, 9 and 12 in the paper.\n",
    "\n",
    "To begin with we need to set up a set of site analysis objects"
   ]
  },
  {
   "cell_type": "code",
   "execution_count": 1,
   "id": "6e927984",
   "metadata": {},
   "outputs": [
    {
     "name": "stdout",
     "output_type": "stream",
     "text": [
      "Ba54 Sn54 F216\n"
     ]
    },
    {
     "name": "stderr",
     "output_type": "stream",
     "text": [
      "/Users/swc57/miniconda3/envs/p3p7/lib/python3.7/site-packages/ipykernel_launcher.py:32: VisibleDeprecationWarning: Creating an ndarray from ragged nested sequences (which is a list-or-tuple of lists-or-tuples-or ndarrays with different lengths or shapes) is deprecated. If you meant to do this, you must specify 'dtype=object' when creating the ndarray.\n",
      "100%|███████████████████████████████████████████| 53/53 [02:48<00:00,  3.18s/it]\n",
      "15900it [22:57, 11.55it/s]\n"
     ]
    }
   ],
   "source": [
    "import numpy as np\n",
    "import os\n",
    "from pymatgen.io.vasp import Poscar\n",
    "from pymatgen.io.vasp import Poscar, Xdatcar\n",
    "import numpy as np\n",
    "import operator\n",
    "from site_analysis.polyhedral_site import PolyhedralSite\n",
    "from site_analysis.atom import atoms_from_species_string\n",
    "from site_analysis.trajectory import Trajectory\n",
    "from site_analysis.tools import get_vertex_indices\n",
    "from site_analysis.atom import atoms_from_species_string\n",
    "\n",
    "\n",
    "structure = Poscar.from_file('../POSCAR').structure\n",
    "print(structure.composition)\n",
    "\n",
    "#This section builds a model of the structure with fluoride ions on every site including octahedral ones\n",
    "#Octahedral sites are obtained by shifting the positions of cations.\n",
    "coords = np.array(structure.frac_coords[:108,:])+np.array([1/6,0,0])\n",
    "for k in range(len(coords)):\n",
    "    structure.append(\"F\",coords[k])\n",
    "\n",
    "#We need identify the defusing fluoride ions which we do here\n",
    "atoms = atoms_from_species_string(Poscar.from_file('../POSCAR').structure, 'F')\n",
    "\n",
    "all_f_structure = structure\n",
    "vertex_species = ['Ba',\"Sn\"]\n",
    "centre_species = 'F'\n",
    "\n",
    "# find atom indices (within species) for all polyhedra vertex atoms\n",
    "vertex_indices = np.array(get_vertex_indices(structure, centre_species=centre_species, \n",
    "                                             vertex_species=vertex_species, cutoff=4.3))\n",
    "\n",
    "# We then create sites and trajectory objects\n",
    "sites = PolyhedralSite.sites_from_vertex_indices(vertex_indices)\n",
    "trajectory = Trajectory(sites=sites,\n",
    "                        atoms=atoms)\n",
    "trajectory.reset()\n",
    "\n",
    "# The trajectory files must then be loaded and processed as a site analysis trajectory object\n",
    "from tqdm import tqdm\n",
    "structures = []\n",
    "for i in tqdm(range(1,54)):\n",
    "    xdatcar = Xdatcar(f'trajectories/r{i}/XDATCAR')\n",
    "    structures.extend(xdatcar.structures)\n",
    "for timestep, s in tqdm(enumerate(structures)):\n",
    "    trajectory.append_timestep(s, t=timestep)"
   ]
  },
  {
   "cell_type": "markdown",
   "id": "9cc4d245",
   "metadata": {},
   "source": [
    "We now move to manipulating the trajectory object"
   ]
  },
  {
   "cell_type": "code",
   "execution_count": 2,
   "id": "71d4dd34",
   "metadata": {},
   "outputs": [],
   "source": [
    "n_atoms=216\n",
    "n_frames=15900"
   ]
  },
  {
   "cell_type": "markdown",
   "id": "d4fd5f71",
   "metadata": {},
   "source": [
    "Set up our figure formatting environment"
   ]
  },
  {
   "cell_type": "code",
   "execution_count": 3,
   "id": "c0a111c8",
   "metadata": {},
   "outputs": [],
   "source": [
    "from figure_formatting import figure_formatting as ff\n",
    "\n",
    "ff.set_formatting()"
   ]
  },
  {
   "cell_type": "markdown",
   "id": "4a2bf21a",
   "metadata": {},
   "source": [
    "We then create a list of tin coordination numbers for sites, in a singular object, we will need this throughout our data processing."
   ]
  },
  {
   "cell_type": "code",
   "execution_count": 4,
   "id": "60751901",
   "metadata": {},
   "outputs": [
    {
     "ename": "NameError",
     "evalue": "name 'all_na_structure' is not defined",
     "output_type": "error",
     "traceback": [
      "\u001b[0;31m---------------------------------------------------------------------------\u001b[0m",
      "\u001b[0;31mNameError\u001b[0m                                 Traceback (most recent call last)",
      "\u001b[0;32m/var/folders/nl/6_zlf4ln1gq49_t2plht4nxr0000gn/T/ipykernel_60767/2588579629.py\u001b[0m in \u001b[0;36m<module>\u001b[0;34m\u001b[0m\n\u001b[1;32m      1\u001b[0m \u001b[0mntins\u001b[0m\u001b[0;34m=\u001b[0m\u001b[0;34m[\u001b[0m\u001b[0;34m]\u001b[0m\u001b[0;34m\u001b[0m\u001b[0;34m\u001b[0m\u001b[0m\n\u001b[1;32m      2\u001b[0m \u001b[0;32mfor\u001b[0m \u001b[0msite\u001b[0m \u001b[0;32min\u001b[0m \u001b[0msites\u001b[0m\u001b[0;34m:\u001b[0m\u001b[0;34m\u001b[0m\u001b[0;34m\u001b[0m\u001b[0m\n\u001b[0;32m----> 3\u001b[0;31m     \u001b[0mntins\u001b[0m\u001b[0;34m.\u001b[0m\u001b[0mappend\u001b[0m\u001b[0;34m(\u001b[0m\u001b[0mnp\u001b[0m\u001b[0;34m.\u001b[0m\u001b[0msum\u001b[0m\u001b[0;34m(\u001b[0m\u001b[0mnp\u001b[0m\u001b[0;34m.\u001b[0m\u001b[0marray\u001b[0m\u001b[0;34m(\u001b[0m\u001b[0msite\u001b[0m\u001b[0;34m.\u001b[0m\u001b[0mget_vertex_species\u001b[0m\u001b[0;34m(\u001b[0m\u001b[0mall_na_structure\u001b[0m\u001b[0;34m)\u001b[0m\u001b[0;34m)\u001b[0m\u001b[0;34m==\u001b[0m\u001b[0;34m'Sn'\u001b[0m\u001b[0;34m)\u001b[0m\u001b[0;34m)\u001b[0m\u001b[0;34m\u001b[0m\u001b[0;34m\u001b[0m\u001b[0m\n\u001b[0m",
      "\u001b[0;31mNameError\u001b[0m: name 'all_na_structure' is not defined"
     ]
    }
   ],
   "source": [
    "ntins=[]\n",
    "for site in sites:\n",
    "    ntins.append(np.sum(np.array(site.get_vertex_species(all_na_structure))=='Sn'))"
   ]
  },
  {
   "cell_type": "markdown",
   "id": "10a07499",
   "metadata": {},
   "source": [
    "We then parse through the site analysis object to create a simple list trajectory fo each atom, and the number of hops each atom makes"
   ]
  },
  {
   "cell_type": "code",
   "execution_count": null,
   "id": "1889d03d",
   "metadata": {},
   "outputs": [],
   "source": [
    "trajectories=[]\n",
    "hops=[]\n",
    "for k in range(108,324):\n",
    "    buf_list=[]\n",
    "    buffer=trajectory.atom_by_index(k).trajectory\n",
    "    count =0\n",
    "    for item in buffer:\n",
    "\n",
    "            if count == 0:\n",
    "                count +=1\n",
    "                buf_list.append(item)\n",
    "            elif type(item)!=int:\n",
    "                pass\n",
    "            elif buf_list[-1]==item:\n",
    "                pass\n",
    "            else:\n",
    "                count +=1\n",
    "                buf_list.append(item)\n",
    "\n",
    "    trajectories.append(np.array(buf_list))\n",
    "    hops.append(count-1)\n"
   ]
  },
  {
   "cell_type": "markdown",
   "id": "4acb680f",
   "metadata": {},
   "source": [
    "The trajectory object is mixed with the site analysis object in order to make a new trajectory list called site_numbers which lists the number of tins coordinated to sites which fluroine atoms hop between."
   ]
  },
  {
   "cell_type": "code",
   "execution_count": null,
   "id": "0b7e72df",
   "metadata": {},
   "outputs": [],
   "source": [
    "site_numbers=[]\n",
    "ntins=np.array(ntins)\n",
    "for atoms in trajectories:\n",
    "    buffer=[]\n",
    "    for ats in atoms:\n",
    "        buffer.append(ntins[ats])\n",
    "    site_numbers.append(buffer)\n"
   ]
  },
  {
   "cell_type": "markdown",
   "id": "af87a184",
   "metadata": {},
   "source": [
    "We then create a second ntins list, called ntins_tot, this second list increases the coordination number of octahedral sites by ten, meaning that a site type label is created where the number of units in the number is the number of tins, while the tens value is set to 0 for tetrahedral sites and 1 for octahedral sites."
   ]
  },
  {
   "cell_type": "code",
   "execution_count": null,
   "id": "41372c51",
   "metadata": {},
   "outputs": [],
   "source": [
    "ntins_tot=np.array(ntins)\n",
    "ntins_tot[n_atoms:]+=10"
   ]
  },
  {
   "cell_type": "markdown",
   "id": "aaea53e9",
   "metadata": {},
   "source": []
  },
  {
   "cell_type": "code",
   "execution_count": 28,
   "id": "b997c2dd",
   "metadata": {},
   "outputs": [],
   "source": [
    "hop_dimensionality=[]\n",
    "forward_dimensionality=[]\n",
    "shoto_dimensionality=[]\n",
    "shoto_forward_dimensionality=[]\n",
    "hop_along=[]\n",
    "linear=[]\n",
    "shoto=[]\n",
    "alles=0\n",
    "\n",
    "for line in trajectories:\n",
    "    last=1000\n",
    "    prior=1000\n",
    "    nb=[]\n",
    "    nf=[]\n",
    "    shoto=[]\n",
    "    shoto_forward=[]\n",
    "    hop_along.append(len(np.unique(line)))\n",
    "    linear.append(np.sum(np.unique(line)<1111))\n",
    "    for element in line:\n",
    "        if element is not None:\n",
    "            if len(nb)==0:\n",
    "                nb.append(ntins_tot[element])\n",
    "                shoto.append(element)\n",
    "                prior=last\n",
    "                last=element\n",
    "            elif last!=element:\n",
    "                shoto.append(element)\n",
    "                echo=element\n",
    "                if element >n_atoms:\n",
    "                    nb.append(ntins_tot[element])\n",
    "                    prior=last\n",
    "                    last=element\n",
    "                else:\n",
    "                    if prior!= element:\n",
    "                        nb.append(ntins_tot[element])\n",
    "                        nf.append(nb[-2])\n",
    "                        nf.append(nb[-1])\n",
    "                        shoto_forward.append(shoto[-2])\n",
    "                        shoto_forward.append(shoto[-1])\n",
    "                        prior=last\n",
    "                        last=element\n",
    "                    else:\n",
    "                        nb.append(ntins_tot[element])\n",
    "                        prior=last\n",
    "                        last=element\n",
    "    hop_dimensionality.append([nb])\n",
    "    forward_dimensionality.append([nf])\n",
    "    shoto_dimensionality.append([shoto])\n",
    "    shoto_forward_dimensionality.append([shoto_forward])\n",
    "\n",
    "\n",
    "    alles+=np.sum(np.unique(line)<n_atoms)-1\n",
    "    linear.append(np.unique(line)<n_atoms)"
   ]
  },
  {
   "cell_type": "code",
   "execution_count": 9,
   "id": "088b884f",
   "metadata": {},
   "outputs": [],
   "source": [
    "forth_co=[]\n",
    "forth_mean=[]\n",
    "for line in forward_dimensionality:\n",
    "    forth_co.append(len(line[0]))\n",
    "    cococo=np.array(line[0]+[0])\n",
    "    forth_mean.append(np.mean(np.array(cococo[cococo<5])))"
   ]
  },
  {
   "cell_type": "code",
   "execution_count": 10,
   "id": "59b5f15d",
   "metadata": {},
   "outputs": [],
   "source": [
    "import matplotlib.pyplot as plt"
   ]
  },
  {
   "cell_type": "code",
   "execution_count": 11,
   "id": "8cade02e",
   "metadata": {},
   "outputs": [],
   "source": [
    "toccupancy=[]\n",
    "letoc=[]\n",
    "for line in trajectory.at:\n",
    "   lol= np.array(line)\n",
    "   lol=lol[lol > n_atoms]\n",
    "   toccupancy.append(ntins[lol])\n",
    "   letoc.append(len(toccupancy[-1]))\n",
    "tettoccupancy=[]\n",
    "tetletoc=[]\n",
    "for line in trajectory.at:\n",
    "   lol= np.array(line)\n",
    "   lol=lol[lol < n_atoms]\n",
    "   tettoccupancy.append(ntins[lol])\n",
    "   tetletoc.append(len(toccupancy[-1]))\n",
    "lin_toccupancy=[]\n",
    "for line in toccupancy:\n",
    "    lin_toccupancy.extend(line)\n",
    "tetlin_toccupancy=[]\n",
    "for line in tettoccupancy:\n",
    "    tetlin_toccupancy.extend(line)\n",
    "tist=np.histogram(ntins[:n_atoms],bins=np.arange(-.5,4.51,1),density=True)\n",
    "oist=np.histogram(np.array(tetlin_toccupancy).ravel(),bins=np.arange(-.5,4.51,1),density=True)"
   ]
  },
  {
   "cell_type": "code",
   "execution_count": 12,
   "id": "6f3bbe5f",
   "metadata": {},
   "outputs": [],
   "source": [
    "tetrahedral_occupancy=len(tetlin_toccupancy)/n_frames/n_atoms"
   ]
  },
  {
   "cell_type": "code",
   "execution_count": 13,
   "id": "a602d160",
   "metadata": {},
   "outputs": [
    {
     "name": "stdout",
     "output_type": "stream",
     "text": [
      "0.049078926935321066\n",
      "0.137364508113984\n",
      "0.16718281698889662\n",
      "0.07463991769547325\n",
      "0.002032572404689805\n"
     ]
    },
    {
     "name": "stderr",
     "output_type": "stream",
     "text": [
      "/Users/swc57/miniconda3/envs/p3p7/lib/python3.7/site-packages/ipykernel_launcher.py:14: UserWarning: Tight layout not applied. The left and right margins cannot be made large enough to accommodate all axes decorations.\n",
      "  \n"
     ]
    },
    {
     "data": {
      "image/png": "[encoded data removed]",
      "text/plain": [
       "<Figure size 324x324 with 1 Axes>"
      ]
     },
     "metadata": {
      "needs_background": "light"
     },
     "output_type": "display_data"
    }
   ],
   "source": [
    "fig, ax =plt.subplots(figsize=(4.5,4.5))\n",
    "colorlist=['#277DA1','#577590','#4D908E','#43AA8B','#90BE6D']\n",
    "colorlist_unoc=['#70BCDC','#9BB0C3','#93C5C3','#8ED2BE','#C0DAAD']\n",
    "oc=[]\n",
    "unoc=[]\n",
    "for n in range(5):\n",
    "    plt.bar((np.array(tist[1])[:-1][n]+np.array(tist[1])[1:][n])/2,tist[0][n]/3*2,color=colorlist_unoc[n])\n",
    "    unoc.append(tist[0][n]/3*2)\n",
    "    print(oist[0][n]*tetrahedral_occupancy/3*2)\n",
    "    plt.bar((np.array(oist[1])[:-1][n]+np.array(oist[1])[1:][n])/2,oist[0][n]*tetrahedral_occupancy/3*2,color=colorlist[n],label='Occupancy')\n",
    "    oc.append(oist[0][n]*tetrahedral_occupancy/3*2)\n",
    "ax.set_xticks([0,1,2,3,4],['Ba$_{4}$','Ba$_{3}$Sn','Ba$_{2}$Sn$_{2}$','BaSn$_{3}$','Sn$_{4}$'],rotation=45,fontsize=13)\n",
    "ax.tick_params(axis='y',labelsize=13)\n",
    "plt.tight_layout(pad=50)\n",
    "plt.subplots_adjust(bottom=0.2)\n",
    "plt.ylabel(\"Proportion of fluorines\", fontsize=13)\n",
    "plt.ylim(0)\n",
    "plt.tight_layout()\n",
    "plt.savefig(\"new_occupancies.pdf\")"
   ]
  },
  {
   "cell_type": "code",
   "execution_count": 14,
   "id": "03d60519",
   "metadata": {},
   "outputs": [],
   "source": [
    "tistD=np.histogram(ntins[:n_atoms],bins=np.arange(-.5,4.51,1))\n",
    "oistD=np.histogram(np.array(tetlin_toccupancy).ravel(),bins=np.arange(-.5,4.51,1))\n",
    "\n",
    "tet_base=oistD[0]/tistD[0]/n_frames\n",
    "\n",
    "tistDoct=np.histogram(ntins[n_atoms:],bins=np.arange(-.5,6.51,1))\n",
    "oistDoct=np.histogram(np.array(lin_toccupancy).ravel(),bins=np.arange(-.5,6.51,1))\n",
    "\n",
    "oct_base=oistDoct[0]/tistDoct[0]/n_frames"
   ]
  },
  {
   "cell_type": "code",
   "execution_count": 15,
   "id": "e305c16a",
   "metadata": {
    "scrolled": true
   },
   "outputs": [
    {
     "name": "stderr",
     "output_type": "stream",
     "text": [
      "/Users/swc57/miniconda3/envs/p3p7/lib/python3.7/site-packages/ipykernel_launcher.py:9: UserWarning: Tight layout not applied. The left and right margins cannot be made large enough to accommodate all axes decorations.\n",
      "  if __name__ == \"__main__\":\n"
     ]
    },
    {
     "data": {
      "image/png": "[encoded data removed]",
      "text/plain": [
       "<Figure size 324x324 with 1 Axes>"
      ]
     },
     "metadata": {
      "needs_background": "light"
     },
     "output_type": "display_data"
    }
   ],
   "source": [
    "tist=np.histogram(ntins[216:],bins=np.arange(-.5,6.51,1),density=True)\n",
    "oist=np.histogram(np.array(lin_toccupancy).ravel(),bins=np.arange(-.5,6.51,1),density=True)\n",
    "fig, ax =plt.subplots(figsize=(4.5,4.5))\n",
    "\n",
    "\n",
    "plt.bar((np.array(tist[1])[:-1]+np.array(tist[1])[1:])/2,tist[0]/3,color='#FCCB90',label='Sites')\n",
    "plt.bar((np.array(oist[1])[:-1]+np.array(oist[1])[1:])/2,oist[0]*(1-tetrahedral_occupancy)/3*2,color='#F8961E',label='Occupancy')\n",
    "ax.set_xticks([0,1,2,3,4],['FBa$_{4}$','FBa$_{3}$Sn','FBa$_{2}$Sn$_{2}$','FBaSn$_{3}$','FSn$_{4}$'],rotation=45,fontsize=13)\n",
    "plt.tight_layout(pad=50)\n",
    "plt.subplots_adjust(bottom=0.2)\n",
    "ax.tick_params(axis='y',labelsize=13)\n",
    "plt.ylabel(\"Proportion of fluorines\", fontsize=13)\n",
    "\n",
    "ax.set_xticks([0,1,2,3,4,5,6],['Ba$_{6}$','Ba$_{5}$Sn','Ba$_{4}$Sn$_{2}$','Ba$_{3}$Sn$_{3}$','Ba$_{2}$Sn$_{4}$','Ba$_{5}$Sn','Sn$_{6}$'],rotation=45,fontsize=13)\n",
    "\n",
    "plt.tight_layout()\n",
    "plt.savefig(\"new_occupancies_oct.pdf\")"
   ]
  },
  {
   "cell_type": "code",
   "execution_count": 16,
   "id": "8085dce7",
   "metadata": {},
   "outputs": [],
   "source": [
    "for kount in range(len(tist[0]/3)):\n",
    "    unoc.append((tist[0]/3)[kount])\n",
    "    oc.append((oist[0]*(1-tetrahedral_occupancy)/3*2)[kount])"
   ]
  },
  {
   "cell_type": "code",
   "execution_count": 17,
   "id": "e7a02bf2",
   "metadata": {},
   "outputs": [],
   "source": [
    "ocurrances=np.histogram(np.array(trajectory.at).ravel(),bins=np.arange(-.5,324.5,1))[0]\n",
    "en_pops=np.log(ocurrances/len(structures)/n_atoms)*600*8.617e-5*-1\n",
    "line=np.log(np.sort(ocurrances)[int(324/3)]/len(structures)/n_atoms)*600*8.617e-5*-1-np.min(en_pops)\n",
    "en_pops-=np.min(en_pops)"
   ]
  },
  {
   "cell_type": "code",
   "execution_count": 18,
   "id": "ed5bfa77",
   "metadata": {},
   "outputs": [],
   "source": [
    "tet_tins=np.array(ntins)[:n_atoms]\n",
    "oct_tins=np.array(ntins)[n_atoms:]"
   ]
  },
  {
   "cell_type": "code",
   "execution_count": 19,
   "id": "6a752f1b",
   "metadata": {},
   "outputs": [],
   "source": [
    "\n",
    "tet_0_oc = ocurrances[np.where([tet_tins==0])[1]]\n",
    "tet_1_oc = ocurrances[np.where([tet_tins==1])[1]]\n",
    "tet_2_oc = ocurrances[np.where([tet_tins==2])[1]]\n",
    "tet_3_oc = ocurrances[np.where([tet_tins==3])[1]]\n",
    "tet_4_oc = ocurrances[np.where([tet_tins==4])[1]]\n",
    "\n",
    "\n",
    "oct_0_oc = ocurrances[n_atoms+np.where([oct_tins==0])[1]]\n",
    "oct_1_oc = ocurrances[n_atoms+np.where([oct_tins==1])[1]]\n",
    "oct_2_oc = ocurrances[n_atoms+np.where([oct_tins==2])[1]]\n",
    "oct_3_oc = ocurrances[n_atoms+np.where([oct_tins==3])[1]]\n",
    "oct_4_oc = ocurrances[n_atoms+np.where([oct_tins==4])[1]]\n",
    "oct_5_oc = ocurrances[n_atoms+np.where([oct_tins==5])[1]]\n",
    "oct_6_oc = ocurrances[n_atoms+np.where([oct_tins==6])[1]]\n"
   ]
  },
  {
   "cell_type": "code",
   "execution_count": 20,
   "id": "7b07670a",
   "metadata": {},
   "outputs": [],
   "source": [
    "\n",
    "tet_0_en = en_pops[np.where([tet_tins==0])[1]]\n",
    "tet_1_en = en_pops[np.where([tet_tins==1])[1]]\n",
    "tet_2_en = en_pops[np.where([tet_tins==2])[1]]\n",
    "tet_3_en = en_pops[np.where([tet_tins==3])[1]]\n",
    "tet_4_en = en_pops[np.where([tet_tins==4])[1]]\n",
    "\n",
    "\n",
    "oct_0_en = en_pops[n_atoms+np.where([oct_tins==0])[1]]\n",
    "oct_1_en = en_pops[n_atoms+np.where([oct_tins==1])[1]]\n",
    "oct_2_en = en_pops[n_atoms+np.where([oct_tins==2])[1]]\n",
    "oct_3_en = en_pops[n_atoms+np.where([oct_tins==3])[1]]\n",
    "oct_4_en = en_pops[n_atoms+np.where([oct_tins==4])[1]]\n",
    "oct_5_en = en_pops[n_atoms+np.where([oct_tins==5])[1]]\n",
    "oct_6_en = en_pops[n_atoms+np.where([oct_tins==6])[1]]\n",
    "\n",
    "oct_all_en = en_pops[n_atoms:]"
   ]
  },
  {
   "cell_type": "code",
   "execution_count": 21,
   "id": "a04316e1",
   "metadata": {},
   "outputs": [],
   "source": [
    "from scipy.stats import gaussian_kde\n"
   ]
  },
  {
   "cell_type": "code",
   "execution_count": 22,
   "id": "5cf9d4ca",
   "metadata": {},
   "outputs": [
    {
     "name": "stdout",
     "output_type": "stream",
     "text": [
      "0.5\n",
      "0.5\n"
     ]
    }
   ],
   "source": [
    "x = np.linspace(-.1,.5,10000)\n",
    "\n",
    "density=gaussian_kde(oct_all_en,bw_method=.5)\n",
    "print(density.covariance_factor())\n",
    "y=density(x)\n",
    "density=gaussian_kde(tet_0_en,bw_method=.5)\n",
    "                     \n",
    "yt0=density(x)\n",
    "print(density.covariance_factor())\n",
    "\n",
    "density=gaussian_kde(tet_1_en,bw_method=.5)\n",
    "yt1=density(x)\n",
    "density=gaussian_kde(tet_2_en,bw_method=.5)\n",
    "yt2=density(x)\n",
    "density=gaussian_kde(tet_3_en,bw_method=.5)\n",
    "yt3=density(x)\n",
    "density=gaussian_kde(tet_4_en,bw_method=.5)\n",
    "yt4=density(x)"
   ]
  },
  {
   "cell_type": "code",
   "execution_count": 23,
   "id": "43a0721b",
   "metadata": {},
   "outputs": [
    {
     "data": {
      "image/png": "[encoded data removed]",
      "text/plain": [
       "<Figure size 360x432 with 1 Axes>"
      ]
     },
     "metadata": {
      "needs_background": "light"
     },
     "output_type": "display_data"
    }
   ],
   "source": [
    "fig, ax =plt.subplots(figsize=(5,6))\n",
    "\n",
    "plt.fill_between(x,yt4/np.max(yt4)+10,10,color=colorlist[4])\n",
    "plt.fill_between(x,yt3/np.max(yt3)+8,8,color=colorlist[3])\n",
    "plt.fill_between(x,yt2/np.max(yt2)+6,6,color=colorlist[2])\n",
    "plt.fill_between(x,yt1/np.max(yt1)+4,4,color=colorlist[1])\n",
    "plt.fill_between(x,yt0/np.max(yt0)+2,2,color=colorlist[0])\n",
    "plt.xlim(-0,.35)\n",
    "plt.ylim(0,12)\n",
    "ax.tick_params(axis='x',labelsize=13)\n",
    "\n",
    "ax.tick_params(axis='y',labelsize=0)\n",
    "\n",
    "plt.plot([line,line],[0,12],linestyle='dashed',color='black')\n",
    "plt.fill_between(x,y/np.max(y),color='#F8961E')\n",
    "plt.xlabel(\"Relative Energy/ eV\", fontsize=16)\n",
    "plt.savefig(\"statistical_mechanical_band_structure.pdf\")"
   ]
  },
  {
   "cell_type": "code",
   "execution_count": null,
   "id": "4c1054f2",
   "metadata": {},
   "outputs": [],
   "source": [
    "hop_to=[]\n",
    "hop_from=[]\n",
    "for looper in hop_dimensionality:\n",
    "    line=looper[0]\n",
    "    if len(line)>1:\n",
    "        hop_to.extend(line[1:])\n",
    "        hop_from.extend(line[:-1])"
   ]
  },
  {
   "cell_type": "code",
   "execution_count": null,
   "id": "b20c9f21",
   "metadata": {},
   "outputs": [],
   "source": [
    "forth_to=[]\n",
    "forth_from=[]\n",
    "for looper in forward_dimensionality:\n",
    "    line=looper[0]\n",
    "    if len(line)>1:\n",
    "        forth_to.extend(line[1:])\n",
    "        forth_from.extend(line[:-1])"
   ]
  },
  {
   "cell_type": "code",
   "execution_count": null,
   "id": "9e8895d0",
   "metadata": {},
   "outputs": [],
   "source": [
    "fig, ax =plt.subplots(figsize=(4.5,4.5))\n",
    "colorlist=['#277DA1','#577590','#4D908E','#43AA8B','#90BE6D']\n",
    "colorlist_unoc=['#70BCDC','#9BB0C3','#93C5C3','#8ED2BE','#C0DAAD']\n",
    "for n in range(5):\n",
    "    plt.bar([0,1,2,3,4][n],(np.histogram(hop_from,bins=[-.5,.5,1.5,2.5,3.5,4.5])[0]/np.histogram(ntins[:n_atoms],bins=[-.5,.5,1.5,2.5,3.5,4.5])[0]/(n_frames*10/1000))[n],color=colorlist_unoc[n])\n",
    "    plt.bar([0,1,2,3,4][n],(np.histogram(forth_from,bins=[-.5,.5,1.5,2.5,3.5,4.5])[0]/np.histogram(ntins[:n_atoms],bins=[-.5,.5,1.5,2.5,3.5,4.5])[0]/(n_frames*10/1000))[n],color=colorlist[n])\n",
    "plt.ylabel('hop frequency/ps$^{-1}$',fontsize=13)\n",
    "ax.legend(['All hops','Non-returning hops'],fontsize=13)\n",
    "ax.set_xticks([0,1,2,3,4],['FBa$_{4}$','FBa$_{3}$Sn','FBa$_{2}$Sn$_{2}$','FBaSn$_{3}$','FSn$_{4}$'])#,rotation=45,fontsize=13)\n",
    "plt.tight_layout(pad=50)\n",
    "plt.ylim(-0.0,3)\n",
    "plt.subplots_adjust(bottom=0.2)\n",
    "ax.set_xticks([0,1,2,3,4],['Ba$_{4}$','Ba$_{3}$Sn','Ba$_{2}$Sn$_{2}$','BaSn$_{3}$','Sn$_{4}$'],rotation=45,fontsize=13)\n",
    "ax.tick_params(axis='y',labelsize=13)\n",
    "plt.savefig('Hops_tet.pdf')\n"
   ]
  },
  {
   "cell_type": "code",
   "execution_count": null,
   "id": "f3437234",
   "metadata": {},
   "outputs": [],
   "source": [
    "fig, ax =plt.subplots(figsize=(4.5,4.5))\n",
    "plt.bar([0,1,2,3,4,5,6],np.histogram(hop_from,bins=np.array([-.5,.5,1.5,2.5,3.5,4.5,5.5,6.5])+10)[0]/np.histogram(ntins[216:],bins=np.array([-.5,.5,1.5,2.5,3.5,4.5,5.5,6.5]))[0]/(n_frames*10/1000),color='#FCCB90')\n",
    "plt.bar([0,1,2,3,4,5,6],np.histogram(forth_from,bins=np.array([-.5,.5,1.5,2.5,3.5,4.5,5.5,6.5])+10)[0]/np.histogram(ntins[216:],bins=np.array([-.5,.5,1.5,2.5,3.5,4.5,5.5,6.5]))[0]/(n_frames*10/1000),color='#F8961E')\n",
    "plt.ylabel('hop frequency/ps$^{-1}$',fontsize=13)\n",
    "ax.legend(['All hops','Non-returning hops'],fontsize=13)\n",
    "ax.set_xticks([0,1,2,3,4],['FBa$_{4}$','FBa$_{3}$Sn','FBa$_{2}$Sn$_{2}$','FBaSn$_{3}$','FSn$_{4}$'])#,rotation=45,fontsize=13)\n",
    "plt.tight_layout(pad=50)\n",
    "plt.ylim(0,3)\n",
    "plt.subplots_adjust(bottom=0.2)\n",
    "ax.set_xticks([0,1,2,3,4,5,6],['FBa$_{6}$','FBa$_{5}$Sn','FBa$_{4}$Sn$_{2}$','FBa$_{3}$Sn$_{3}$','FBa$_{2}$Sn$_{4}$','FBaSn$_{5}$','FSn$_{6}$'],rotation=45,fontsize=13)\n",
    "ax.tick_params(axis='y',labelsize=13)\n",
    "plt.ylim(0,3)\n",
    "plt.ylabel('hop frequency/ps$^{-1}$',fontsize=13)\n",
    "plt.subplots_adjust(bottom=0.2)\n",
    "\n",
    "plt.savefig('Hops_oct.pdf')\n"
   ]
  },
  {
   "cell_type": "code",
   "execution_count": null,
   "id": "b3bb7207",
   "metadata": {},
   "outputs": [],
   "source": [
    "fig, ax =plt.subplots(figsize=(8,8))\n",
    "colorlist=['#277DA1','#577590','#4D908E','#43AA8B','#90BE6D']\n",
    "colorlist_unoc=['#70BCDC','#9BB0C3','#93C5C3','#8ED2BE','#C0DAAD']\n",
    "weight_list=np.append(tet_base,oct_base)\n",
    "for n in range(5):\n",
    "    plt.bar([0,1,2,3,4][n],(np.histogram(hop_from,bins=[-.5,.5,1.5,2.5,3.5,4.5])[0]/np.histogram(ntins[:216],bins=[-.5,.5,1.5,2.5,3.5,4.5])[0])[n]/weight_list[n]/(15900*10/1000),color=colorlist_unoc[n])\n",
    "    plt.bar([0,1,2,3,4][n],(np.histogram(forth_from,bins=[-.5,.5,1.5,2.5,3.5,4.5])[0]/np.histogram(ntins[:216],bins=[-.5,.5,1.5,2.5,3.5,4.5])[0])[n]/weight_list[n]/(15900*10/1000),color=colorlist[n])\n",
    "plt.bar([0+5,1+5,2+5,3+5,4+5,5+5,6+5],np.histogram(hop_from,bins=np.array([-.5,.5,1.5,2.5,3.5,4.5,5.5,6.5])+10)[0]/np.histogram(ntins[216:],bins=np.array([-.5,.5,1.5,2.5,3.5,4.5,5.5,6.5]))[0]/weight_list[5:]/(15900*10/1000),color='#FCCB90')\n",
    "plt.bar([0+5,1+5,2+5,3+5,4+5,5+5,6+5],np.histogram(forth_from,bins=np.array([-.5,.5,1.5,2.5,3.5,4.5,5.5,6.5])+10)[0]/np.histogram(ntins[216:],bins=np.array([-.5,.5,1.5,2.5,3.5,4.5,5.5,6.5]))[0]/weight_list[5:]/(15900*10/1000),color='#F8961E')\n",
    "plt.ylabel('hop frequency/ps$^{-1}$',fontsize=16)\n",
    "ax.set_xticks([0,1,2,3,4,5,6,7,8,9,10,11],['FBa$_{4}$','FBa$_{3}$Sn','FBa$_{2}$Sn$_{2}$','FBaSn$_{3}$','FSn$_{4}$','FBa$_{6}$','FBa$_{5}$Sn','FBa$_{4}$Sn$_{2}$','FBa$_{3}$Sn$_{3}$','FBa$_{2}$Sn$_{4}$','FBaSn$_{5}$','FSn$_{6}$'],rotation=45,fontsize=16)\n",
    "ax.tick_params(axis='y',labelsize=16)\n",
    "plt.ylabel('hop frequency/ps$^{-1}$',fontsize=13)\n",
    "plt.subplots_adjust(bottom=0.2)\n",
    "plt.savefig(\"hops_new.pdf\",dpi=300)"
   ]
  },
  {
   "cell_type": "code",
   "execution_count": null,
   "id": "7e09b3a7",
   "metadata": {},
   "outputs": [],
   "source": [
    "hexamin_loc=np.loadtxt('../Polarisation/hexamin_loc')"
   ]
  },
  {
   "cell_type": "code",
   "execution_count": null,
   "id": "646c338b",
   "metadata": {},
   "outputs": [],
   "source": [
    "from pymatgen.core import Structure, Lattice\n",
    "from polyhedral_analysis.configuration import Configuration\n",
    "from polyhedral_analysis.polyhedra_recipe import PolyhedraRecipe\n",
    "from polyhedral_analysis.octahedral_analysis import isomer_is_cis, isomer_is_fac, isomer_is_mer, isomer_is_trans\n",
    "recipe = PolyhedraRecipe(method='distance cutoff',\n",
    "                     coordination_cutoff=4.6,\n",
    "                     central_atoms='Sn',\n",
    "                     vertex_atoms=['Sn','Ba'])\n",
    "configs = [Configuration(structure=Structure.from_file('../POSCAR'), recipes=[recipe])]\n",
    "\n",
    "polyhedra = [p for c in configs for p in c.polyhedra]"
   ]
  },
  {
   "cell_type": "code",
   "execution_count": null,
   "id": "5795a63c",
   "metadata": {},
   "outputs": [],
   "source": [
    "polset=polyhedra[0].vertex_vectors.copy()\n",
    "polset[abs(polyhedra[0].vertex_vectors)<.1]=0"
   ]
  },
  {
   "cell_type": "code",
   "execution_count": null,
   "id": "4dcd280c",
   "metadata": {},
   "outputs": [],
   "source": [
    "store2=np.zeros(np.shape(store))\n",
    "store2[:,1]=store[:,0]\n",
    "store2[:,0]=store[:,1]\n",
    "store2[:,2]=store[:,3]\n",
    "store2[:,3]=store[:,2]\n",
    "store2[:,4]=store[:,5]\n",
    "store2[:,5]=store[:,4]"
   ]
  },
  {
   "cell_type": "code",
   "execution_count": null,
   "id": "681214e3",
   "metadata": {},
   "outputs": [],
   "source": [
    "store= np.zeros((54,6))\n",
    "for counta in range(len(polyhedra)):\n",
    "    polset=polyhedra[counta].vertex_vectors.copy()\n",
    "    polset[abs(polyhedra[counta].vertex_vectors)<.1]=0\n",
    "    polset=np.round(polset/3.05)\n",
    "    for count in range(len(polset)):\n",
    "        if polyhedra[counta].vertex_labels[count] == 'Sn':\n",
    "            if int(polset[count][2])== -1:\n",
    "                store[counta,5]+=1\n",
    "            elif int(polset[count][2])== 1:\n",
    "                store[counta,4]+=1\n",
    "            if int(polset[count][1])== -1:\n",
    "                store[counta,3]+=1\n",
    "            elif int(polset[count][1])== 1:\n",
    "                store[counta,2]+=1\n",
    "            if int(polset[count][0])== -1:\n",
    "                store[counta,1]+=1\n",
    "            elif int(polset[count][0])== 1:\n",
    "                store[counta,0]+=1\n",
    "        else:\n",
    "            pass"
   ]
  },
  {
   "cell_type": "code",
   "execution_count": null,
   "id": "263a70e2",
   "metadata": {},
   "outputs": [],
   "source": [
    "hex_block=[]\n",
    "total_block=[]\n",
    "for k in range(54):\n",
    "    hex_block.append(np.histogram(hexamin_loc[:,k],bins=np.arange(0,6.1,1),density=True)[0])\n",
    "    total_block.append(store[k,:]/np.sum(store[k,:]))"
   ]
  },
  {
   "cell_type": "code",
   "execution_count": null,
   "id": "e1958d1f",
   "metadata": {},
   "outputs": [],
   "source": [
    "from pymatgen.core import Structure, Lattice\n",
    "from polyhedral_analysis.configuration import Configuration\n",
    "from polyhedral_analysis.polyhedra_recipe import PolyhedraRecipe\n",
    "from polyhedral_analysis.octahedral_analysis import isomer_is_cis, isomer_is_fac, isomer_is_mer, isomer_is_trans"
   ]
  },
  {
   "cell_type": "code",
   "execution_count": null,
   "id": "a7914c7b",
   "metadata": {},
   "outputs": [],
   "source": [
    "vals=np.zeros((5,5))\n",
    "counting_base=np.zeros((5,5))\n",
    "hex_block=np.array(hex_block)\n",
    "for k in range(np.shape(hex_block)[0]):\n",
    "    for l in range(np.shape(hex_block)[1]):\n",
    "        vals[int(store[k,l]),int(store2[k,l])]+=hex_block[k,l]\n",
    "        counting_base[int(store[k,l]),int(store2[k,l])]+=1"
   ]
  },
  {
   "cell_type": "code",
   "execution_count": null,
   "id": "9f7ccd44",
   "metadata": {
    "scrolled": true
   },
   "outputs": [],
   "source": [
    "from cmcrameri import cm\n",
    "plt.figure()\n",
    "plt.imshow(vals/counting_base,cmap=cm.lipari,vmin=0)\n",
    "plt.xlim(-0.5,4.5)\n",
    "plt.ylim(-0.5,4.5)\n",
    "plt.xlabel('front-face n(Sn) neighbours')\n",
    "plt.ylabel('back-face n(Sn) neighbours')\n",
    "cbar=plt.colorbar()\n",
    "cbar.set_label('P(front-facing lone pair)')\n",
    "plt.savefig(\"orientation.pdf\")"
   ]
  }
 ],
 "metadata": {
  "kernelspec": {
   "display_name": "Python 3 (ipykernel)",
   "language": "python",
   "name": "python3"
  },
  "language_info": {
   "codemirror_mode": {
    "name": "ipython",
    "version": 3
   },
   "file_extension": ".py",
   "mimetype": "text/x-python",
   "name": "python",
   "nbconvert_exporter": "python",
   "pygments_lexer": "ipython3",
   "version": "3.7.13"
  }
 },
 "nbformat": 4,
 "nbformat_minor": 5
}
